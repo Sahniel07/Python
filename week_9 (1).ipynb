{
 "cells": [
  {
   "cell_type": "markdown",
   "id": "0842aa78-c82d-4235-b88c-7f670b7379e3",
   "metadata": {},
   "source": [
    "# Strings:"
   ]
  },
  {
   "cell_type": "markdown",
   "id": "4bd536fd",
   "metadata": {},
   "source": [
    "## String indexing:"
   ]
  },
  {
   "cell_type": "markdown",
   "id": "86041636",
   "metadata": {},
   "source": [
    "### Task 1:\n",
    "\n",
    "Create a variable called *name*. Pass your name as the value to this variable. Get the 2nd letter of your name using string indexing."
   ]
  },
  {
   "cell_type": "code",
   "execution_count": null,
   "id": "e542c513",
   "metadata": {},
   "outputs": [],
   "source": [
    "# Your code below:\n",
    "# ------------------\n",
    "\n"
   ]
  },
  {
   "cell_type": "markdown",
   "id": "0f5cdd92",
   "metadata": {},
   "source": [
    "**Sample output for Chid:**\n",
    "\n",
    "The second letter in my name is:  h"
   ]
  },
  {
   "cell_type": "markdown",
   "id": "2225bc69",
   "metadata": {},
   "source": [
    "## String slicing:"
   ]
  },
  {
   "cell_type": "markdown",
   "id": "a2ee24f3-d5e3-4f4c-b0cc-a380ed6f00eb",
   "metadata": {},
   "source": [
    "### Task 1:\n",
    "\n",
    "Create a variable named **my_university** and assign **Technische Hochschule Ingolstadt** to it as a string. Print only the first **10** characters in this string."
   ]
  },
  {
   "cell_type": "code",
   "execution_count": null,
   "id": "6e19068b-1e7e-4758-8a69-a61a6116970d",
   "metadata": {},
   "outputs": [],
   "source": [
    "# Your code below:\n",
    "# -------------------\n",
    "\n",
    "\n"
   ]
  },
  {
   "cell_type": "markdown",
   "id": "377c5967-4360-4190-bcc6-e8fd05ddcba1",
   "metadata": {},
   "source": [
    "**Expected output:** Technische"
   ]
  },
  {
   "cell_type": "markdown",
   "id": "97a93636-420b-40dc-a045-4eb7783a8684",
   "metadata": {},
   "source": [
    "### Task 2:\n",
    "\n",
    "Create a variable named **sample_string** and assign **I study at Technische Hochschule Ingolstadt** to it as a string. Print only the last 10 characters in this string using **negative indices** (_Because counting indices from beginning is too much work ;-p_)."
   ]
  },
  {
   "cell_type": "code",
   "execution_count": null,
   "id": "aa54261b-fb2d-4cdd-b802-461f0885b19a",
   "metadata": {},
   "outputs": [],
   "source": [
    "# Your code below:\n",
    "# -------------------\n",
    "\n"
   ]
  },
  {
   "cell_type": "markdown",
   "id": "080199d8-950d-4535-a401-c4f504e8cbd3",
   "metadata": {},
   "source": [
    "**Expected output:** Ingolstadt"
   ]
  },
  {
   "cell_type": "markdown",
   "id": "d337089b",
   "metadata": {},
   "source": [
    "### Task 3: \n",
    "\n",
    "Write a function that **_prints_** the last \"m\" characters in a string by skipping the last \"n\" characters at the end of the string. For example, if the string is **I come from America** and **m=5** and **n=2**. The function should return **'Ameri'**.\n",
    "\n",
    "Test your function for the string **I like Butterfly**, m=6 and n=3. The expected output is given below."
   ]
  },
  {
   "cell_type": "code",
   "execution_count": null,
   "id": "fd2e2585",
   "metadata": {},
   "outputs": [],
   "source": []
  },
  {
   "cell_type": "code",
   "execution_count": null,
   "id": "21ce90f5",
   "metadata": {},
   "outputs": [],
   "source": [
    "# Your code below:\n",
    "# -------------------\n",
    "\n",
    "\n"
   ]
  },
  {
   "cell_type": "markdown",
   "id": "b4571b69",
   "metadata": {},
   "source": [
    "**Expected output:** Butter"
   ]
  },
  {
   "cell_type": "markdown",
   "id": "cba6422b-dfc1-4794-aafe-28e326df4481",
   "metadata": {},
   "source": [
    "### Task 4:\n",
    "\n",
    "Write a function named **count_i()** that takes a string as an input and returns the number of times **i** appears in the string. Check the number of times **i** appears in Michael Jackson's famous Billi Jean song, \n",
    "\n",
    "**\"Billie Jean is not my lover. She's just a girl who claims that I am the one. But the kid is not my son. She says I am the one, but the kid is not my son\"**."
   ]
  },
  {
   "cell_type": "code",
   "execution_count": null,
   "id": "841653c0-0cff-4dd7-a432-87518e2ba812",
   "metadata": {},
   "outputs": [],
   "source": [
    "# Your code below:\n",
    "# -------------------\n",
    "\n",
    "\n"
   ]
  },
  {
   "cell_type": "markdown",
   "id": "c2513c74-17e1-4e88-b7ef-79d870138096",
   "metadata": {},
   "source": [
    "**Expected output:** 11"
   ]
  },
  {
   "cell_type": "markdown",
   "id": "912510eb-415e-4411-ae39-7a05bc724170",
   "metadata": {},
   "source": [
    "### Task 5:\n",
    "\n",
    "Create a variable named **my_name** and assign your name to it as a string. Now write a function named **skip_letters()** that prints the letters in your name by skipping one letter in between. For example, my name is **Chidvilas**, your function should print **Civls** and if your name is **Belzner** the output should be **Blnr**.\n",
    "\n",
    "**Hint:** You are printing indices **0,2,4,6,...**"
   ]
  },
  {
   "cell_type": "code",
   "execution_count": null,
   "id": "7d3c0ed0-8ac2-41a4-b490-bc66e3f929e0",
   "metadata": {},
   "outputs": [],
   "source": [
    "# Your code below:\n",
    "# -------------------\n",
    "\n",
    "\n"
   ]
  },
  {
   "cell_type": "markdown",
   "id": "3b6682f4-fd77-4505-8fca-959ddebd5887",
   "metadata": {},
   "source": [
    "**Sample output for Chidvilas:** </br>\n",
    "C</br>\n",
    "i</br>\n",
    "v</br>\n",
    "l</br>\n",
    "s</br>"
   ]
  },
  {
   "cell_type": "markdown",
   "id": "94195c55-4ec9-4184-89dc-f5413328a87a",
   "metadata": {},
   "source": [
    "### Task 6:\n",
    "\n",
    "Write a function that prints the middle character in your name. You can solve this task using string indices. There are two types of names, one having _even_ number of characters and one having _odd_ number of characters.\n",
    "1. If a name has odd number of characters it is easy to print the middle character. For example, **name=Belzner** has 7 characters and hence, your function should print \"z\".\n",
    "2. If a name has even number of characers it is not possible to find a middle character so your function should print the previous and next character. For example, if **name=Lenz** has 4 characters and there is no middle character. Hence, your function should print \"e\" and \"n\".\n",
    "\n",
    "**Note:** Create two variables named **first_name=\"Lenz\"** and **last_name=\"Belzner\"** and test your function. For **first_name** your function should return **\"e\"** **\"n\"** and for **last_name** your function should return **\"z\"**."
   ]
  },
  {
   "cell_type": "code",
   "execution_count": null,
   "id": "4744f7ff-1e3b-46de-82a3-363401f22a65",
   "metadata": {},
   "outputs": [],
   "source": [
    "# Your code below:\n",
    "# -------------------\n",
    "\n",
    "\n"
   ]
  },
  {
   "cell_type": "code",
   "execution_count": null,
   "id": "8506a4a3-cfa4-4c85-b9b2-3a854c4e1aa0",
   "metadata": {},
   "outputs": [],
   "source": [
    "# Testing 1: Check your function for \"Lenz\"\n",
    "# -----------\n",
    "\n",
    "\n"
   ]
  },
  {
   "cell_type": "markdown",
   "id": "3c8e4609",
   "metadata": {},
   "source": [
    "**Expected output:** </br>\n",
    "e</br>\n",
    "n</br>"
   ]
  },
  {
   "cell_type": "code",
   "execution_count": null,
   "id": "c961025d",
   "metadata": {},
   "outputs": [],
   "source": [
    "# Testing 2: Check your function for \"Belzner\"\n",
    "# -----------\n",
    "\n",
    "\n"
   ]
  },
  {
   "cell_type": "markdown",
   "id": "5514d771-aae0-42d1-8fa0-0049c0d6201b",
   "metadata": {},
   "source": [
    "**Expected output:** </br>\n",
    "z\n"
   ]
  },
  {
   "cell_type": "markdown",
   "id": "2de9c34d-709b-4a67-8e8d-69920f490bd8",
   "metadata": {},
   "source": [
    "### Task 7:\n",
    "\n",
    "Write a function to check the number of vowels in a given string. In the English language, there are 5 vowels namely \"a\", \"e\", \"i\", \"o\" and \"u\". Your function should check how many times each vowel appears respectively in a string and print the result. Test your functions on the two Python jokes (taken from the internet of course) given below :-p \n",
    "\n",
    "**Note:** Your function should print the number of occurances of each vowel and not the total. Check the sample output to understand the task better.\n",
    "\n",
    "**Hint:** Check the Python strings documentations online to see if there exists a function to solve this with fewer lines of code ;-)"
   ]
  },
  {
   "cell_type": "code",
   "execution_count": null,
   "id": "5faa8161",
   "metadata": {},
   "outputs": [],
   "source": [
    "# Your code below:\n",
    "# -------------------\n",
    "\n"
   ]
  },
  {
   "cell_type": "code",
   "execution_count": null,
   "id": "175b584e",
   "metadata": {},
   "outputs": [],
   "source": [
    "# Testing 1:\n",
    "# -----------\n",
    "python_joke_1 = \"One small joke to lighten your day. Why do Python programmers have to wear glasses? Because they can't C#\"\n",
    "\n"
   ]
  },
  {
   "cell_type": "markdown",
   "id": "fcccc14d",
   "metadata": {},
   "source": [
    "**Expected output:** \"a\" appears 8 times, \"e\" appears 10 times, \"i\" appears 1 times, \"o\" appears 8 times and \"u\" appears 2 times."
   ]
  },
  {
   "cell_type": "code",
   "execution_count": null,
   "id": "a17bc071",
   "metadata": {},
   "outputs": [],
   "source": [
    "# Testing 2:\n",
    "# -----------\n",
    "\n",
    "python_joke_2 = \"Let me tell you the world's shortest love story. Person 1: You are the \";\" to my code. Person 2: Sorry, I am a Python developer!\"\n"
   ]
  },
  {
   "cell_type": "markdown",
   "id": "6137687e",
   "metadata": {},
   "source": [
    "**Expected output:** \"a\" appears 1 times, \"e\" appears 9 times, \"i\" appears 0 times, \"o\" appears 7 times and \"u\" appears 2 times."
   ]
  },
  {
   "cell_type": "markdown",
   "id": "09fc768b",
   "metadata": {},
   "source": [
    "### Task 8:\n",
    "\n",
    "Check the number of times \"b\" appears in the string **\"Betty bought butter but the butter was bitter, so Betty bought better butter to make the bitter butter better.\"**\n",
    "But there is a catch! Find the number of times \"b\" appears **_after_** the first occurance of the word **\"butter\"**.\n",
    "\n",
    "Use the **count()** and **find()** methods in Python for this task. You can check the documentation in https://www.w3schools.com/python/ref_string_count.asp"
   ]
  },
  {
   "cell_type": "code",
   "execution_count": null,
   "id": "28a9c762",
   "metadata": {},
   "outputs": [],
   "source": [
    "# Your code below:\n",
    "# ------------------\n",
    "\n"
   ]
  },
  {
   "cell_type": "markdown",
   "id": "b4a437a9",
   "metadata": {},
   "source": [
    "**Expected output:** The number of times the letter \"b\" appears in the string after the first occurance of \"butter\" is:  10"
   ]
  },
  {
   "cell_type": "code",
   "execution_count": null,
   "id": "4bfa8196",
   "metadata": {},
   "outputs": [],
   "source": []
  }
 ],
 "metadata": {
  "kernelspec": {
   "display_name": "Python 3",
   "language": "python",
   "name": "python3"
  },
  "language_info": {
   "codemirror_mode": {
    "name": "ipython",
    "version": 3
   },
   "file_extension": ".py",
   "mimetype": "text/x-python",
   "name": "python",
   "nbconvert_exporter": "python",
   "pygments_lexer": "ipython3",
   "version": "3.8.11"
  }
 },
 "nbformat": 4,
 "nbformat_minor": 5
}
