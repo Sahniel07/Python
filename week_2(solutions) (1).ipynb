{
 "cells": [
  {
   "cell_type": "markdown",
   "id": "1639180f-72fc-47a0-a7bf-7321e9dc0001",
   "metadata": {},
   "source": [
    "# hello, world!\n",
    "\n",
    "**Basic Combined Programming Language (BCPL)** was designed by Martin Richards in 1967. A stripped-down version of BCPL is called as _B programming language_ and Brian Kernigham’s 1972 book, _A Tutorial Introduction to the Language B_ first used the test-phrase \"hello, world!\". The previous tutorial in the book printed \"hi!\" and since, \"hello, world!\" required more characters, it was part of the next learning step within the book. Since then it is considered customary for programmers to print \"hello, world!\" as the first line of code when they are learning a new programming language.\n",
    "\n",
    "Let's do it in Python :-)"
   ]
  },
  {
   "cell_type": "code",
   "execution_count": 1,
   "id": "90e0d99a-ef0a-4b1a-a56d-6afbff9badb3",
   "metadata": {},
   "outputs": [
    {
     "name": "stdout",
     "output_type": "stream",
     "text": [
      "hello, world!\n"
     ]
    }
   ],
   "source": [
    "# Your code below:\n",
    "# -------------------\n",
    "\n",
    "print(\"hello, world!\")"
   ]
  },
  {
   "cell_type": "markdown",
   "id": "329b355c",
   "metadata": {},
   "source": [
    "**Output:** hello, world!"
   ]
  },
  {
   "cell_type": "markdown",
   "id": "caecdee9",
   "metadata": {},
   "source": [
    "# Data types:\n",
    "\n",
    "Basic data types in Python are,\n",
    "\n",
    "1. _Numerical type_: integers, floats and complex numbers\n",
    "2. _Characters/ Text type_: strings\n",
    "3. _Truth or Falsehood type_: Boolean"
   ]
  },
  {
   "cell_type": "markdown",
   "id": "b9da35b9",
   "metadata": {},
   "source": [
    "### Integers, Floats and Complex Numbers"
   ]
  },
  {
   "cell_type": "code",
   "execution_count": 2,
   "id": "df6154af",
   "metadata": {},
   "outputs": [
    {
     "name": "stdout",
     "output_type": "stream",
     "text": [
      "10\n",
      "<class 'int'>\n"
     ]
    }
   ],
   "source": [
    "# Integers:\n",
    "# ----------\n",
    "\n",
    "inty = 10\n",
    "\n",
    "print(inty)\n",
    "print(type(inty))"
   ]
  },
  {
   "cell_type": "code",
   "execution_count": 3,
   "id": "1eac5471",
   "metadata": {},
   "outputs": [
    {
     "name": "stdout",
     "output_type": "stream",
     "text": [
      "10.5\n",
      "<class 'float'>\n"
     ]
    }
   ],
   "source": [
    "# Floats:\n",
    "# -------\n",
    "\n",
    "floaty = 10.5\n",
    "\n",
    "print(floaty)\n",
    "print(type(floaty))"
   ]
  },
  {
   "cell_type": "code",
   "execution_count": 4,
   "id": "19fbbb38",
   "metadata": {},
   "outputs": [
    {
     "name": "stdout",
     "output_type": "stream",
     "text": [
      "(10+5j)\n",
      "<class 'complex'>\n",
      "10.0\n",
      "5.0\n"
     ]
    }
   ],
   "source": [
    "# Complex numbers:\n",
    "# --------------------\n",
    "\n",
    "complexy = 10 + 5j\n",
    "\n",
    "print(complexy)\n",
    "print(type(complexy))\n",
    "\n",
    "print(complexy.real)\n",
    "print(complexy.imag)"
   ]
  },
  {
   "cell_type": "markdown",
   "id": "8474abf5",
   "metadata": {},
   "source": [
    "### Strings:"
   ]
  },
  {
   "cell_type": "code",
   "execution_count": 5,
   "id": "925b186a",
   "metadata": {},
   "outputs": [
    {
     "name": "stdout",
     "output_type": "stream",
     "text": [
      "Ingolstadt\n",
      "<class 'str'>\n"
     ]
    }
   ],
   "source": [
    "stringy = \"Ingolstadt\"\n",
    "\n",
    "print(stringy)\n",
    "print(type(stringy))"
   ]
  },
  {
   "cell_type": "markdown",
   "id": "7925b2ae",
   "metadata": {},
   "source": [
    "### Boolean:"
   ]
  },
  {
   "cell_type": "code",
   "execution_count": 6,
   "id": "a4135c69",
   "metadata": {},
   "outputs": [
    {
     "name": "stdout",
     "output_type": "stream",
     "text": [
      "True\n",
      "<class 'bool'>\n"
     ]
    }
   ],
   "source": [
    "booly = True\n",
    "\n",
    "print(booly)\n",
    "print(type(booly))"
   ]
  },
  {
   "cell_type": "markdown",
   "id": "f336bdba-862a-4f5c-9adf-23450ded3eda",
   "metadata": {},
   "source": [
    "# Values, Variable and Assignments:"
   ]
  },
  {
   "cell_type": "markdown",
   "id": "5b987d3a-e2f4-4839-b00f-b81adce25cce",
   "metadata": {},
   "source": [
    "### Task 1: \n",
    "Create a variable named **speed** and assign a value of **40** kmph to it and print the value."
   ]
  },
  {
   "cell_type": "code",
   "execution_count": 7,
   "id": "031b1511-8205-4c88-87d7-449e0f30cc51",
   "metadata": {},
   "outputs": [
    {
     "name": "stdout",
     "output_type": "stream",
     "text": [
      "40\n"
     ]
    }
   ],
   "source": [
    "# Your code below:\n",
    "# -------------------\n",
    "\n",
    "speed = 40\n",
    "\n",
    "print(speed)"
   ]
  },
  {
   "cell_type": "markdown",
   "id": "c57a4592-ced4-4008-b2b9-85e9df56d3c3",
   "metadata": {},
   "source": [
    "**Expected output:** 40"
   ]
  },
  {
   "cell_type": "markdown",
   "id": "571b7850-527c-47e5-9739-ec8b2e251fc3",
   "metadata": {},
   "source": [
    "### Task 2: \n",
    "Create a variable named **car** and assign the **name of your favourite car** to it and print the value."
   ]
  },
  {
   "cell_type": "code",
   "execution_count": 8,
   "id": "31b872bf-e32f-4533-8a24-b69d7be3a71e",
   "metadata": {},
   "outputs": [
    {
     "name": "stdout",
     "output_type": "stream",
     "text": [
      "Lamborghini Huracan Performante\n"
     ]
    }
   ],
   "source": [
    "# Your code below:\n",
    "# -------------------\n",
    "\n",
    "car = \"Lamborghini Huracan Performante\"\n",
    "\n",
    "print(car)"
   ]
  },
  {
   "cell_type": "markdown",
   "id": "87e9f806-67a3-4ea9-8c4c-b2a1565b2366",
   "metadata": {},
   "source": [
    "**Sample output:** Lamborghini Huracan Performante"
   ]
  },
  {
   "cell_type": "markdown",
   "id": "27c26d52-8386-4e74-a1d2-862f5861833c",
   "metadata": {},
   "source": [
    "### Task 3: \n",
    "Create a variable named as **wheel-base** and assign a value of **4.5** m to it and print the value.\n",
    "\n",
    "**Note:** Keep in mind the rules for assigning names for variables."
   ]
  },
  {
   "cell_type": "code",
   "execution_count": 9,
   "id": "91b04fb4-a2f4-478d-be56-64e173df5a74",
   "metadata": {},
   "outputs": [
    {
     "name": "stdout",
     "output_type": "stream",
     "text": [
      "4.5\n"
     ]
    }
   ],
   "source": [
    "# Your code below:\n",
    "# -------------------\n",
    "\n",
    "wheel_base = 4.5\n",
    "\n",
    "print(wheel_base)"
   ]
  },
  {
   "cell_type": "markdown",
   "id": "bddb9119-20b2-4146-9347-577343c70316",
   "metadata": {},
   "source": [
    "**Expected output:** 4.5"
   ]
  },
  {
   "cell_type": "markdown",
   "id": "5665e139-0931-4e99-9fde-9336beddebb7",
   "metadata": {},
   "source": [
    "### Task 4: \n",
    "\n",
    "Print the **data type** of each of the above values. Use the **type()** function for the task."
   ]
  },
  {
   "cell_type": "code",
   "execution_count": 10,
   "id": "44aae6da-b53a-4bfc-a1a2-dcd9c3ed4f48",
   "metadata": {},
   "outputs": [
    {
     "name": "stdout",
     "output_type": "stream",
     "text": [
      "<class 'int'>\n"
     ]
    }
   ],
   "source": [
    "# Data type of speed:\n",
    "# ----------------------\n",
    "\n",
    "print(type(speed))"
   ]
  },
  {
   "cell_type": "markdown",
   "id": "c875391c-1443-4c94-a6f6-8bc585b06d51",
   "metadata": {},
   "source": [
    "**Expected output:** <class 'int'>"
   ]
  },
  {
   "cell_type": "code",
   "execution_count": 11,
   "id": "9c229bcf-6170-41fb-8104-cb48176a8908",
   "metadata": {},
   "outputs": [
    {
     "name": "stdout",
     "output_type": "stream",
     "text": [
      "<class 'str'>\n"
     ]
    }
   ],
   "source": [
    "# Data type of car:\n",
    "# -------------------\n",
    "\n",
    "print(type(car))"
   ]
  },
  {
   "cell_type": "markdown",
   "id": "bbfc3aa0-833c-431f-b8d5-6925484efb0b",
   "metadata": {},
   "source": [
    "**Expected output:** <class 'str'>"
   ]
  },
  {
   "cell_type": "code",
   "execution_count": 12,
   "id": "1e6113ab-7521-4765-ba50-80f73d3e412d",
   "metadata": {},
   "outputs": [
    {
     "name": "stdout",
     "output_type": "stream",
     "text": [
      "<class 'float'>\n"
     ]
    }
   ],
   "source": [
    "# Data type of wheel base:\n",
    "# ---------------------------\n",
    "\n",
    "print(type(wheel_base))"
   ]
  },
  {
   "cell_type": "markdown",
   "id": "125f377a-1c08-41cc-97f4-fbffec835d63",
   "metadata": {},
   "source": [
    "**Expected output:** <class 'float'>"
   ]
  },
  {
   "cell_type": "markdown",
   "id": "1f3384d3-8039-4d1b-a2b1-3dd39e60d63d",
   "metadata": {},
   "source": [
    "# Operations on numbers:"
   ]
  },
  {
   "cell_type": "markdown",
   "id": "878679dd-ea3a-466d-bd08-2771fe5d273c",
   "metadata": {},
   "source": [
    "### Task 1: \n",
    "\n",
    "Lamborghini Aventador has a wheel-base of **2.6** m and an average track-width of **1.7** m. The **Foot-print** of a car is the area covered by the four points of the car's wheels touching the ground and is given by the equation **foot-print = (wheel-base * track-width)**. Your task is to create two variables namely track-width and wheel-base and assign respective values to them. Write an equation to calcuate the foot-print and print the result.\n",
    "\n",
    "**Note:** Keep in mind the rules for assigning names for variables."
   ]
  },
  {
   "cell_type": "code",
   "execution_count": 13,
   "id": "7d7643e1-ea60-4aa6-814c-cdaebc60a779",
   "metadata": {},
   "outputs": [
    {
     "name": "stdout",
     "output_type": "stream",
     "text": [
      "4.42\n"
     ]
    }
   ],
   "source": [
    "# Your code below:\n",
    "# -------------------\n",
    "\n",
    "wheel_base = 2.6\n",
    "track_width = 1.7\n",
    "\n",
    "foot_print = (wheel_base * track_width)\n",
    "\n",
    "print(foot_print)"
   ]
  },
  {
   "cell_type": "markdown",
   "id": "0991f8c4-904d-4c6e-b276-28e9975471e3",
   "metadata": {},
   "source": [
    "**Expected output:** 4.42"
   ]
  },
  {
   "cell_type": "markdown",
   "id": "b88bc790-656e-4c2d-8e85-966359e79905",
   "metadata": {},
   "source": [
    "### Task 2: \n",
    "\n",
    "**Time to collision (TTC)** of a vehicle is the time available for the vehicle to brake or execute a manoeuvre to avoid collision with the object in front. It is given by a simple formula, **TTC = distance of separation / current velocity of the vehicle**. Given the distance of separation between your Ferrari Roma and the Mini Cooper in front is **5** m and you are travelling at **2** m/s. Calculate the TTC and print it.\n",
    "\n",
    "**Note:** Keep in mind the rules for assigning names for variables."
   ]
  },
  {
   "cell_type": "code",
   "execution_count": 14,
   "id": "ac1b2b1f-4f9f-4ed2-95e1-fdb506092126",
   "metadata": {},
   "outputs": [
    {
     "name": "stdout",
     "output_type": "stream",
     "text": [
      "2.5\n"
     ]
    }
   ],
   "source": [
    "# Your code below:\n",
    "# -------------------\n",
    "\n",
    "distance = 5\n",
    "velocity = 2\n",
    "\n",
    "time_to_collision = distance / velocity\n",
    "\n",
    "print(time_to_collision)"
   ]
  },
  {
   "cell_type": "markdown",
   "id": "cb43d105-8f96-482c-a33b-529bf84a6ffb",
   "metadata": {},
   "source": [
    "**Expected output:** 2.5"
   ]
  },
  {
   "cell_type": "markdown",
   "id": "93d408e6-df08-4167-92b6-7c26acb56aca",
   "metadata": {},
   "source": [
    "### Task 3:\n",
    "\n",
    "The above task gives a value in Decimals. For the present task, try to get TTC value without a remainder."
   ]
  },
  {
   "cell_type": "code",
   "execution_count": 15,
   "id": "288585f2-d667-47dc-ab18-5cb2ea34aa7f",
   "metadata": {},
   "outputs": [
    {
     "name": "stdout",
     "output_type": "stream",
     "text": [
      "2\n"
     ]
    }
   ],
   "source": [
    "# Your code below:\n",
    "# -------------------\n",
    "\n",
    "distance = 5\n",
    "velocity = 2\n",
    "\n",
    "time_to_collision = distance // velocity\n",
    "\n",
    "print(time_to_collision)"
   ]
  },
  {
   "cell_type": "markdown",
   "id": "41335646-87e0-4b89-bb8c-e67d5dc9aee0",
   "metadata": {},
   "source": [
    "**Expected output:** 2"
   ]
  },
  {
   "cell_type": "markdown",
   "id": "c7331efe-c796-4277-b021-ee944344fab8",
   "metadata": {},
   "source": [
    "### Task 4:\n",
    "\n",
    "You have 10 friends and 2 Bentley Continental GTs. You are going to a party and each Bentley Continental GT can accommodate 4 people. How many of your friends will have to be left behind and will have to catch a bus? \n",
    "\n",
    "**Note:** You don't have to create any variables here. Use the print statement to display the result.\n",
    "\n",
    "**Hint:** Solve it using the modulus **%** operator"
   ]
  },
  {
   "cell_type": "code",
   "execution_count": 16,
   "id": "f46a809f-b077-4af5-b19f-29b7b4e93fee",
   "metadata": {},
   "outputs": [
    {
     "name": "stdout",
     "output_type": "stream",
     "text": [
      "2\n"
     ]
    }
   ],
   "source": [
    "# Your code below:\n",
    "# -------------------\n",
    "\n",
    "print(10 % (4*2))"
   ]
  },
  {
   "cell_type": "markdown",
   "id": "ef89c116-7444-44db-b9be-fbc55a536167",
   "metadata": {},
   "source": [
    "**Expected output:** 2"
   ]
  },
  {
   "cell_type": "markdown",
   "id": "e95e9466-38f1-4b36-8c03-9ffe5d5970a4",
   "metadata": {},
   "source": [
    "### Task 5:\n",
    "\n",
    "You are a billionaire who owns **10** BMW S1000RRs. You have **8** best friends and would like to gift each of them a BMW S1000RR. After this how many BMW S1000RRs will be left with you?\n",
    "\n",
    "**Note:** You don't have to create any variables here. Use the print statement to display the result."
   ]
  },
  {
   "cell_type": "code",
   "execution_count": 17,
   "id": "bcd21c2d-e079-49aa-8362-48d9ca33a9ca",
   "metadata": {},
   "outputs": [
    {
     "name": "stdout",
     "output_type": "stream",
     "text": [
      "2\n"
     ]
    }
   ],
   "source": [
    "# Your code below:\n",
    "# -------------------\n",
    "\n",
    "print(10-8)"
   ]
  },
  {
   "cell_type": "markdown",
   "id": "e8d4dc54-ce93-4237-ba79-f07c08d98808",
   "metadata": {},
   "source": [
    "**Expected output:** 2"
   ]
  },
  {
   "cell_type": "markdown",
   "id": "33313bd1-c0ce-4cb2-8afe-288a3920d1fc",
   "metadata": {},
   "source": [
    "# String operations:"
   ]
  },
  {
   "cell_type": "markdown",
   "id": "8d7b774e-a916-4eb0-8e97-74aba99fcdd0",
   "metadata": {},
   "source": [
    "### Task 1:\n",
    "\n",
    "Concatenate three string values namely, **I am studying** , **\\<your course here\\>** and **at THI**."
   ]
  },
  {
   "cell_type": "code",
   "execution_count": 18,
   "id": "3c7003ea-30a9-40cb-a0cf-c590fa4bde65",
   "metadata": {},
   "outputs": [
    {
     "name": "stdout",
     "output_type": "stream",
     "text": [
      "I am studying International Automotive Engineering at Technische Hochschule Ingolstadt\n"
     ]
    }
   ],
   "source": [
    "# Your code below:\n",
    "# -------------------\n",
    "\n",
    "print(\"I am studying\" + \" \" + \"International Automotive Engineering\" + \" \" + \"at Technische Hochschule Ingolstadt\")"
   ]
  },
  {
   "cell_type": "markdown",
   "id": "0a892b53-090a-431f-9f12-2f67d2df3e7f",
   "metadata": {},
   "source": [
    "**Example Output:** I am studying International Automotive Engineering at THI\n",
    "\n",
    "**Note:** How will you handle spacing between the strings?"
   ]
  },
  {
   "cell_type": "markdown",
   "id": "55a7f224-46da-4bd4-b4b4-7e0653e6b24f",
   "metadata": {},
   "source": [
    "### Task 2:"
   ]
  },
  {
   "cell_type": "markdown",
   "id": "3c1fce13-1475-4048-87f9-e9284e3d7eef",
   "metadata": {},
   "source": [
    "Create a variable named **sample** and assign a string value of **Yo** to it. Now multiply the string with 4 and print the value."
   ]
  },
  {
   "cell_type": "code",
   "execution_count": 19,
   "id": "7aa60c8b-68b2-4ba5-8afe-86111d1cb898",
   "metadata": {},
   "outputs": [
    {
     "name": "stdout",
     "output_type": "stream",
     "text": [
      "YoYoYoYo\n"
     ]
    }
   ],
   "source": [
    "# Your code below:\n",
    "# -------------------\n",
    "\n",
    "sample = \"Yo\"\n",
    "\n",
    "print(sample*4)"
   ]
  },
  {
   "cell_type": "markdown",
   "id": "1b4dec16-2562-4c40-97ac-5c04569f0630",
   "metadata": {},
   "source": [
    "**Expected output:** YoYoYoYo"
   ]
  },
  {
   "cell_type": "markdown",
   "id": "923bfd30-750c-4503-923e-adaf97a3cebb",
   "metadata": {},
   "source": [
    "### Task 3:\n",
    "\n",
    "Can other mathematical operations be performed between a string and a number?\n",
    "\n",
    "Create a variable named **sample** and assign a string value of **engineering** to it. Now try to use **+**, **-** and **/** operations with an integer **4**."
   ]
  },
  {
   "cell_type": "code",
   "execution_count": 20,
   "id": "c138aff7-7122-4c9a-af47-63c3f8ee85d5",
   "metadata": {},
   "outputs": [],
   "source": [
    "# Your code below:\n",
    "# -------------------\n",
    "\n"
   ]
  },
  {
   "cell_type": "markdown",
   "id": "6634fb41-e044-49d9-844e-867a557696fa",
   "metadata": {},
   "source": [
    "**Solution:** None of the operations other than * work with a string"
   ]
  },
  {
   "cell_type": "markdown",
   "id": "971f2cc1-225a-4be1-b29b-fa1d21c8c041",
   "metadata": {},
   "source": [
    "### Task 4:\n",
    "\n",
    "Create a variable called **my_string** and give it a string value **I am in love with \"Python\"**. Print the string.\n",
    "\n",
    "**Note:** Please pay attention to the double quotes **\" \"**. How will you handle it?"
   ]
  },
  {
   "cell_type": "code",
   "execution_count": 21,
   "id": "3333eb66-ed14-4c4d-b251-06800371f2fd",
   "metadata": {},
   "outputs": [
    {
     "name": "stdout",
     "output_type": "stream",
     "text": [
      "I am in love with \"Python\"\n",
      "I am in love with \"Python\"\n"
     ]
    }
   ],
   "source": [
    "# Your code below:\n",
    "# -------------------\n",
    "\n",
    "## Solution 1:\n",
    "## ------------\n",
    "\n",
    "my_string = 'I am in love with \"Python\"'\n",
    "\n",
    "print(my_string)\n",
    "\n",
    "## Solution 2:\n",
    "## ------------\n",
    "print(\"I am in love with \\\"Python\\\"\")"
   ]
  },
  {
   "cell_type": "markdown",
   "id": "2c4581af-94b0-42b2-a4f7-a17fce5eb44e",
   "metadata": {},
   "source": [
    "**Expected output:** I am in love with \"Python\""
   ]
  },
  {
   "cell_type": "markdown",
   "id": "27db803b-13eb-47dc-aa74-f5ea724497ec",
   "metadata": {},
   "source": [
    "### Task 5:\n",
    "\n",
    "Create a variable called **my_car** and give it a string value **I would love to own a 'BMW'**. Print the string.\n",
    "\n",
    "**Note:** Please pay attention to the single quotes **' '**. How will you handle it?"
   ]
  },
  {
   "cell_type": "code",
   "execution_count": 22,
   "id": "e30ed486-2ba2-4679-b168-68fbb8686a60",
   "metadata": {},
   "outputs": [
    {
     "name": "stdout",
     "output_type": "stream",
     "text": [
      "I would love to own a 'BMW'\n",
      "I would love to own a 'BMW'\n"
     ]
    }
   ],
   "source": [
    "# Your code below:\n",
    "# -------------------\n",
    "\n",
    "## Solution 1:\n",
    "## ------------\n",
    "my_car = \"I would love to own a 'BMW'\"\n",
    "print(my_car)\n",
    "\n",
    "## Solution 2:\n",
    "## ------------\n",
    "print('I would love to own a \\'BMW\\'')"
   ]
  },
  {
   "cell_type": "markdown",
   "id": "bf0ad63a-ca5e-46d8-b81f-0326a1e0581c",
   "metadata": {},
   "source": [
    "**Expected output:** I would love to own a 'BMW'"
   ]
  },
  {
   "cell_type": "markdown",
   "id": "f39522f9-e1f9-4c8c-a250-6058af4f4263",
   "metadata": {},
   "source": [
    "# Operator Precedence:\n",
    "\n",
    "The operator precedence in Python follows the standard **BODMAS (Brackets, Order, Division, Multiplication, Addition and Subtraction)** rule. Other names are also used namely **PEMDAS (Parenthesis, Exponent, Multiplication, Division, Addition and Subtraction)** or **BIDMAS (Brackets, Indices, Division, Multiplication, Addition and Subtraction)** depending in the country of residence.\n",
    "\n",
    "Try to solve the following tasks by hand and also using Python to see if Python is getting the results right :-p"
   ]
  },
  {
   "cell_type": "markdown",
   "id": "449e9146-c89e-4d12-8d0d-3b730bb3c0c2",
   "metadata": {},
   "source": [
    "### Task 1:\n",
    "\n",
    "The formula for **tire diameter** is given as  **tire diameter = 2 x (section width x aspect ratio)/25.4 + rim diameter**. Let **section_width** be **235** mm, **aspect_ratio** be **0.35** amd **rim_diameter** be **19** inch. Write an expression to calcuate the **tire_diameter** and print the value.\n",
    "\n",
    "**Hint:** Values can be directly substituted without any conversion."
   ]
  },
  {
   "cell_type": "code",
   "execution_count": 23,
   "id": "36693dcc-548c-47ec-a446-e9d5effa9d15",
   "metadata": {},
   "outputs": [
    {
     "name": "stdout",
     "output_type": "stream",
     "text": [
      "25.476377952755904\n"
     ]
    }
   ],
   "source": [
    "# Your code below:\n",
    "# -------------------\n",
    "\n",
    "tire_diameter = 2 * (235 * 0.35) / 25.4 + 19\n",
    "\n",
    "print(tire_diameter)"
   ]
  },
  {
   "cell_type": "markdown",
   "id": "6d862894-d8bb-4ab4-af1a-c800d60d6361",
   "metadata": {},
   "source": [
    "**Expected output:** ~ 25.5"
   ]
  },
  {
   "cell_type": "markdown",
   "id": "3d70f190-5ecb-4638-9667-ccde24b536f4",
   "metadata": {},
   "source": [
    "### Task 2:\n",
    "\n",
    "An Audi A8 has a **bore** of **0.845**m and a **stroke** of **0.89**m. The Volume of the cylinder is given be **volume = (3.14/4)\\* bore² * stroke**. Calculate the volume of the cylinder.\n",
    "\n",
    "**Hint:** Values can be directly substituted without any conversion."
   ]
  },
  {
   "cell_type": "code",
   "execution_count": 24,
   "id": "a9532eb8-2eb4-43cd-a336-556d16e5293d",
   "metadata": {},
   "outputs": [
    {
     "name": "stdout",
     "output_type": "stream",
     "text": [
      "0.49885356624999994\n"
     ]
    }
   ],
   "source": [
    "# Your code below:\n",
    "# -------------------\n",
    "\n",
    "bore = 0.845\n",
    "stroke = 0.89\n",
    "\n",
    "volume = (3.14/4) * (bore**2) * stroke \n",
    "\n",
    "print(volume)"
   ]
  },
  {
   "cell_type": "markdown",
   "id": "bdce2674-398a-45e5-a016-303ded8792b5",
   "metadata": {},
   "source": [
    "**Expected output:** ~ 0.49 m^3"
   ]
  },
  {
   "cell_type": "markdown",
   "id": "054f4a02-098f-4598-8515-93f7066f6c45",
   "metadata": {},
   "source": [
    "## Additional note:\n",
    "\n",
    "If you want to round-off the number of decimal places, please use the code below. Just replace 3f with the number of decimal places of your choice."
   ]
  },
  {
   "cell_type": "code",
   "execution_count": 25,
   "id": "afe13716-f048-46ca-9381-c7c38f28789d",
   "metadata": {},
   "outputs": [
    {
     "name": "stdout",
     "output_type": "stream",
     "text": [
      "0.499\n"
     ]
    }
   ],
   "source": [
    "# Your code below:\n",
    "# -------------------\n",
    "\n",
    "bore = 0.845\n",
    "stroke = 0.89\n",
    "\n",
    "volume = (3.14/4) * (bore**2) * stroke\n",
    "\n",
    "print(\"{:.3f}\".format(volume))"
   ]
  },
  {
   "cell_type": "code",
   "execution_count": null,
   "id": "e617708a-33ef-4aa4-abed-0db6ca6c4392",
   "metadata": {},
   "outputs": [],
   "source": []
  }
 ],
 "metadata": {
  "kernelspec": {
   "display_name": "Python 3",
   "language": "python",
   "name": "python3"
  },
  "language_info": {
   "codemirror_mode": {
    "name": "ipython",
    "version": 3
   },
   "file_extension": ".py",
   "mimetype": "text/x-python",
   "name": "python",
   "nbconvert_exporter": "python",
   "pygments_lexer": "ipython3",
   "version": "3.8.11"
  }
 },
 "nbformat": 4,
 "nbformat_minor": 5
}
