{
 "cells": [
  {
   "cell_type": "markdown",
   "id": "5f331eab",
   "metadata": {},
   "source": [
    "# Repetition (for loop):"
   ]
  },
  {
   "cell_type": "markdown",
   "id": "e24436ba",
   "metadata": {},
   "source": [
    "_A \"for\" loop is used to iterate over a sequence in Python._"
   ]
  },
  {
   "cell_type": "code",
   "execution_count": null,
   "id": "1861ccd7",
   "metadata": {},
   "outputs": [],
   "source": [
    "# Example 1:\n",
    "# -----------\n",
    "\"\"\"\n",
    "As it can be seen, a string is also a sequence of characters that can be iterated over.\n",
    "\"\"\"\n",
    "\n",
    "university = \"THI\"\n",
    "\n",
    "for each_character in university:\n",
    "    print(each_character)"
   ]
  },
  {
   "cell_type": "code",
   "execution_count": null,
   "id": "c9c82ac9",
   "metadata": {},
   "outputs": [],
   "source": [
    "# Example 2:\n",
    "# ------------\n",
    "\n",
    "for i in range(0, 3):\n",
    "    print(i+1)"
   ]
  },
  {
   "cell_type": "markdown",
   "id": "48795c33",
   "metadata": {},
   "source": [
    "_The range() function returns a sequence of numbers, starting from 0 by default, and increments by 1 (by default), and stops before a specified number._\n",
    "\n",
    "**Note:** \n",
    "1. range() by default starts with 0. So, range(3) is equivalent to range(0, 3)\n",
    "2. range() has 1 as increment by default. We can change the increment as a third argument. For example, range(1, 4, 2) returns a sequence having items 1, 3"
   ]
  },
  {
   "cell_type": "markdown",
   "id": "ff1838df",
   "metadata": {},
   "source": [
    "### Task 1:\n",
    "\n",
    "_The following task combines **for** loop, **strings** and **formatted strings**._\n",
    "\n",
    "1. Create a variable called **name** which takes your first-name as a value\n",
    "2. Write a code that prints each character of your name one at a time. The remaining characters must be replaced with **-**. \n",
    "\n",
    "The expected output for name = \"Chidvilas\" is shown below. Solve it using a **for** loop. Please do not use multiple print() statements :-p"
   ]
  },
  {
   "cell_type": "code",
   "execution_count": 12,
   "id": "70cff419",
   "metadata": {},
   "outputs": [
    {
     "name": "stdout",
     "output_type": "stream",
     "text": [
      "S------\n",
      "a-----\n",
      "h----\n",
      "n---\n",
      "i--\n",
      "e-\n",
      "l\n"
     ]
    }
   ],
   "source": [
    "# Your code below: (Take about 5-10 mins to solve this task)\n",
    "# -------------------\n",
    "name = \"Sahniel\"\n",
    "length = len(name)\n",
    "for i in name:\n",
    "    print(f\"{i}{'-'*(length-1)}\")\n",
    "    length -= 1\n",
    "\n",
    "    "
   ]
  },
  {
   "cell_type": "markdown",
   "id": "7a9cde7e",
   "metadata": {},
   "source": [
    "**Expected output:**</br>\n",
    "C --------</br>\n",
    "h -------</br>\n",
    "i ------</br>\n",
    "d -----</br>\n",
    "v ----</br>\n",
    "i ---</br>\n",
    "l --</br>\n",
    "a -</br>\n",
    "s </br>"
   ]
  },
  {
   "cell_type": "markdown",
   "id": "4362fc47-a1cd-41f2-b4ce-49943010be45",
   "metadata": {},
   "source": [
    "# Recursion in Python:\n",
    "\n",
    "Recursion is where a function is called within itself."
   ]
  },
  {
   "cell_type": "markdown",
   "id": "c54cae55",
   "metadata": {},
   "source": [
    "### Task 1:\n",
    "\n",
    "The function defined below has to output **Waiting** followed by as many **.** as you specify using **n** parameter. Once **n** reaches 0, the function says **I am done waiting!** and the recursion must stop. Check your recursive function for n=5. The expected output is given below.\n",
    "\n",
    "**Hint:** You should use Recursion and conditional statements to solve this task. "
   ]
  },
  {
   "cell_type": "code",
   "execution_count": 21,
   "id": "a2932de6",
   "metadata": {},
   "outputs": [],
   "source": [
    "# Your code below:\n",
    "# -------------------\n",
    "def Waiting(n):\n",
    "    if n == 0:\n",
    "        print(\"I am done waiting!\")\n",
    "    else:\n",
    "        print(\"Waiting\",\".\"*(n))\n",
    "        return Waiting(n-1)"
   ]
  },
  {
   "cell_type": "code",
   "execution_count": 22,
   "id": "c3fac0b9",
   "metadata": {},
   "outputs": [
    {
     "name": "stdout",
     "output_type": "stream",
     "text": [
      "Waiting .....\n",
      "Waiting ....\n",
      "Waiting ...\n",
      "Waiting ..\n",
      "Waiting .\n",
      "I am done waiting!\n"
     ]
    }
   ],
   "source": [
    "# Call your function below:\n",
    "# ---------------------------\n",
    "Waiting(5)\n"
   ]
  },
  {
   "cell_type": "markdown",
   "id": "c6638b11",
   "metadata": {},
   "source": [
    "**Expected output:**</br>\n",
    "Waiting.....</br>\n",
    "Waiting....</br>\n",
    "Waiting...</br>\n",
    "Waiting..</br>\n",
    "Waiting.</br>\n",
    "I am done waiting!"
   ]
  },
  {
   "cell_type": "markdown",
   "id": "21df5bfb",
   "metadata": {},
   "source": [
    "### Task 2: **Recursive summation**.\n",
    "\n",
    "Let's say you have a number, for example, **5**. Recursive_sum of **5** returns **5+4+3+2+1=15**. Here, negative numbers should not be considered in summation which means the summation should stop at **1** (including 1).\n",
    "\n",
    "As it can be seen **recursive_sum(5) = 5+4+3+2+1**, can be re-written as **recursive_sum(5) = 5 + recursive_sum(4)**. And **recursive_sum(4) = 4 + recursive_sum(3)** and so on. This highlights how Recursion can be used while coding.\n",
    "\n",
    "Write a recursive function called **resursive_sum()** that finds the recursive sum of **n=10**. Manually calculate the recursive sum of 10 and see if Python got it right :-p\n",
    "\n",
    "**Hint:** You have to use conditional statements **_if_** and **_else_**"
   ]
  },
  {
   "cell_type": "code",
   "execution_count": 25,
   "id": "ec73912e",
   "metadata": {},
   "outputs": [],
   "source": [
    "# Your code below:\n",
    "# -------------------\n",
    "def recursive_sum(n):\n",
    "    sum = n\n",
    "    if n == 0:\n",
    "        return sum\n",
    "    else:\n",
    "        return sum + recursive_sum(n-1) \n",
    "\n"
   ]
  },
  {
   "cell_type": "code",
   "execution_count": 27,
   "id": "0fd96690",
   "metadata": {},
   "outputs": [
    {
     "data": {
      "text/plain": [
       "55"
      ]
     },
     "execution_count": 27,
     "metadata": {},
     "output_type": "execute_result"
    }
   ],
   "source": [
    "# Call your function below:\n",
    "# ---------------------------\n",
    "\n",
    "\n",
    "recursive_sum(10)"
   ]
  },
  {
   "cell_type": "markdown",
   "id": "68416d8a",
   "metadata": {},
   "source": [
    "**Expected output:** 55"
   ]
  },
  {
   "cell_type": "markdown",
   "id": "3e403b4a",
   "metadata": {},
   "source": [
    "### Task 3: **Factorial**\n",
    "\n",
    "**Factorial** of a number n, mathematically denoted as **n!** is give by the following equation;\n",
    "\n",
    "n! = n  * **{ (n-1) * (n-2) * ... * 1 }**\n",
    "\n",
    "As it can be seen, the part highlighted inside **{...}** can be re-written as **(n-1)!**. This highlights how Recursion can be used while coding. i.e.\n",
    "\n",
    "**n! = n  * (n-1)!**\n",
    "\n",
    "Write a recursive function named **recursive_factorial()** that calculates the factorial of **n=10**. Manually calculate the factorial of 10 and see if Python got it right :-p\n",
    "\n",
    "**Hint:** You have to use conditional statements **_if_** and **_else_**"
   ]
  },
  {
   "cell_type": "code",
   "execution_count": 31,
   "id": "d0db1aae",
   "metadata": {},
   "outputs": [],
   "source": [
    "# Your code below:\n",
    "# -------------------\n",
    "\n",
    "def factorial(n):\n",
    "    if n <=1:\n",
    "        return 1\n",
    "    else:\n",
    "        return n * factorial(n-1)\n"
   ]
  },
  {
   "cell_type": "code",
   "execution_count": 32,
   "id": "1df92293",
   "metadata": {},
   "outputs": [
    {
     "data": {
      "text/plain": [
       "3628800"
      ]
     },
     "execution_count": 32,
     "metadata": {},
     "output_type": "execute_result"
    }
   ],
   "source": [
    "# Call your function below:\n",
    "# ---------------------------\n",
    "factorial(10)\n",
    "\n"
   ]
  },
  {
   "cell_type": "markdown",
   "id": "fce6dead",
   "metadata": {},
   "source": [
    "**Expected output:** 3628800"
   ]
  },
  {
   "cell_type": "markdown",
   "id": "d99fe0ed-43fa-4b26-9bde-a95a2eedfc55",
   "metadata": {},
   "source": [
    "### Task 4: **Reducing Series**\n",
    "\n",
    "Write a function that takes **n** as a parameter and returns a series that reduces by 1 in each step. \n",
    "\n",
    "For example, If **n=3**, the recursive function should print **3,2,1** and if **n=5** then the recursive function should print **5,4,3,2,1**. Once done the recursive function should print **Done with reduction**.\n",
    "\n",
    "**Note:** Make sure you add an **if** statement that handles **negative integers**. This means if you call your function with **n=-ve**, then the function should say **Please pass positive integers**. Your function should also handle **n=0** by printing **Done with reduction**."
   ]
  },
  {
   "cell_type": "code",
   "execution_count": 1,
   "id": "0e1fdc7b-196c-421d-8612-9f6cd9de8118",
   "metadata": {},
   "outputs": [],
   "source": [
    "# Your code below:\n",
    "# -------------------\n",
    "\n",
    "def series(n):\n",
    "    if n < 0:\n",
    "        print(\"Please pass positive integers\")\n",
    "    elif n == 0:\n",
    "        return \"Done with reduction\"\n",
    "    else:\n",
    "        print(n)\n",
    "        return series(n-1)"
   ]
  },
  {
   "cell_type": "code",
   "execution_count": 3,
   "id": "c58f271e-a5fd-4350-8b0e-c4ca1216422a",
   "metadata": {},
   "outputs": [
    {
     "name": "stdout",
     "output_type": "stream",
     "text": [
      "10\n",
      "9\n",
      "8\n",
      "7\n",
      "6\n",
      "5\n",
      "4\n",
      "3\n",
      "2\n",
      "1\n"
     ]
    },
    {
     "data": {
      "text/plain": [
       "'Done with reduction'"
      ]
     },
     "execution_count": 3,
     "metadata": {},
     "output_type": "execute_result"
    }
   ],
   "source": [
    "# Call your function below:\n",
    "\n",
    "\n",
    "series(10)"
   ]
  },
  {
   "cell_type": "markdown",
   "id": "f746918f-31a3-4022-b644-bf921620600c",
   "metadata": {},
   "source": [
    "**Output:**\n",
    "\n",
    "10<br/>\n",
    "9<br/>\n",
    "8<br/>\n",
    "7<br/>\n",
    "6<br/>\n",
    "5<br/>\n",
    "4<br/>\n",
    "3<br/>\n",
    "2<br/>\n",
    "1<br/>\n",
    "Done with reduction"
   ]
  },
  {
   "attachments": {},
   "cell_type": "markdown",
   "id": "03b1ccd7-19a7-432f-99ac-0e06f3b55869",
   "metadata": {},
   "source": [
    "### Task 5: **Fibonachi Series**\n",
    "\n",
    "Let's code Fibonachi Series in Python using Recursion :-D\n",
    "\n",
    "Fibonachi Series is characterized by the equation **F(n) = F(n-1) + F(n-2)**. This results in a series that looks like;\n",
    "\n",
    "_**0, 1, 1, 2, 3, 5, 8, 13, 21, 34,...,int**_. \n",
    "\n",
    "So, the **1st** element in a Fibonachi Series is **0**, the **2nd** element in a Fibonachi Series is **1** and  **3rd** element in a Fibonachi Series is **1** and so on....\n",
    "\n",
    "1. **Sub-task 1**: Write a function called **fibonachi_element(n)** that gives the n-th Fibonachi element. You should use recursion here.\n",
    "\n",
    "2. **Sub-task 2**: Write another function called **fibonachi_series(m)** that calls **fibonachi_element(n)** function m-times to print the entire Fibonachi series with **m** elements."
   ]
  },
  {
   "cell_type": "code",
   "execution_count": 17,
   "id": "99804edd-ebdf-4b51-978f-566692c72095",
   "metadata": {},
   "outputs": [],
   "source": [
    "# Your code below:\n",
    "# -------------------\n",
    "\n",
    "# Function 1: Write a function to get the n-th Fibonachi element\n",
    "# ------------\n",
    "def fibonacci(n):\n",
    "    if n<=1:\n",
    "        return n\n",
    "    else:\n",
    "        return fibonacci(n-1) + fibonacci(n-2)\n",
    "\n",
    "\n",
    "\n",
    "# Function 2: Write a function that calls Function 1, m-times to get the entire Fibonachi series\n",
    "# ------------\n",
    "def fibonacci_element(m):\n",
    "    for i in range(m):\n",
    "        print(fibonacci(i))"
   ]
  },
  {
   "cell_type": "code",
   "execution_count": 19,
   "id": "4dd7b505-9973-45e5-aa8b-64c53397b586",
   "metadata": {},
   "outputs": [
    {
     "name": "stdout",
     "output_type": "stream",
     "text": [
      "0\n",
      "1\n",
      "1\n",
      "2\n",
      "3\n",
      "5\n"
     ]
    }
   ],
   "source": [
    "# Call Function 2 below:\n",
    "# ------------------------\n",
    "fibonacci_element(6)\n",
    "\n"
   ]
  },
  {
   "cell_type": "markdown",
   "id": "6e037544-23ad-4902-9233-1a9415089409",
   "metadata": {},
   "source": [
    "**Expected output:**\n",
    "\n",
    "0<br/>\n",
    "1<br/>\n",
    "1<br/>\n",
    "2<br/>\n",
    "3<br/>\n",
    "5"
   ]
  },
  {
   "cell_type": "code",
   "execution_count": null,
   "id": "7112b16d",
   "metadata": {},
   "outputs": [],
   "source": []
  }
 ],
 "metadata": {
  "kernelspec": {
   "display_name": "Python 3",
   "language": "python",
   "name": "python3"
  },
  "language_info": {
   "codemirror_mode": {
    "name": "ipython",
    "version": 3
   },
   "file_extension": ".py",
   "mimetype": "text/x-python",
   "name": "python",
   "nbconvert_exporter": "python",
   "pygments_lexer": "ipython3",
   "version": "3.10.6"
  },
  "vscode": {
   "interpreter": {
    "hash": "fbc768028c3e6ead51d9a200ddcb2ec858ae62844dcd1994729a8279be9b48f2"
   }
  }
 },
 "nbformat": 4,
 "nbformat_minor": 5
}
