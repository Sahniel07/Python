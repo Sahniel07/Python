{
 "cells": [
  {
   "cell_type": "markdown",
   "id": "6d6c7d02-e8d9-47fe-9a49-0e32395c4374",
   "metadata": {},
   "source": [
    "## Object oriented programming (OOP):\n",
    "\n",
    "1. Classes are blueprints in Python. You can create multiple instances by using these Classes. Consider the blueprint of a house. You can build as many houses as you want using a single blueprint.\n",
    "\n",
    "2. Classes in python follow the **CapWords** or **PascalCase** naming convention. Here, the first letter of each compound word in a variable is capitalized. For example, **MyClass** or **AutonomousVehicle**."
   ]
  },
  {
   "cell_type": "markdown",
   "id": "c0c30298-4a9d-430b-aac2-9f0b56262e53",
   "metadata": {},
   "source": [
    "### Example: \n",
    "\n",
    "Let's create a **Dog** class which takes the **breed** of the dog and its **feature** as attributes. And let's write a _method_ (function) within this class called **create_dog** that prints the breed and feature of a Dog instance. We then use this **Dog** class to create two dogs (_called as instances of Dog class_) namely, **my_goldie** which is a golden retriever and **my_husky** which is a husky. By calling the **create_dog** method, we can see the output where the breed and feature of each instance is printed."
   ]
  },
  {
   "cell_type": "code",
   "execution_count": null,
   "id": "4345510b-ccd9-4f82-bb45-d6efc40073df",
   "metadata": {},
   "outputs": [],
   "source": [
    "# Create a Dog class:\n",
    "# ---------------------\n",
    "\n",
    "class Dog:\n",
    "    def __init__(self, breed, feature):\n",
    "        self.breed = breed\n",
    "        self.feature = feature\n",
    "        \n",
    "    def create_dog(self):\n",
    "        print(\"The dog is a: \", self.breed)\n",
    "        print(\"The characteristic feature of this dog is: \", self.feature, \"\\n\")\n",
    "        \n",
    "        \n",
    "# Let's create some dogs: 😁\n",
    "# ---------------------------\n",
    "\n",
    "my_goldie = Dog(breed=\"Golden retriever\", feature=\"Golden fur\")\n",
    "my_goldie.create_dog()\n",
    "\n",
    "my_husky = Dog(breed=\"Husky\", feature=\"Black and white fur and blue eyes\")\n",
    "my_husky.create_dog()"
   ]
  },
  {
   "cell_type": "markdown",
   "id": "2e7d2a77-5f8f-440f-94f7-e906a5f7656a",
   "metadata": {},
   "source": [
    "### Task 1:\n",
    "\n",
    "Your task is to create a **Car** class similar to the **Dog** class that is defined above. Your task here is to only define a **__init__** constructor for the **Car** class with **company**, **model** and **colour** as attributes. Then create an instance of the Car class called as **my_car**. Finally print the **model** and **colour** of the Car instance that you have created by accessing these attributes through the instance of the **Car** class."
   ]
  },
  {
   "cell_type": "code",
   "execution_count": null,
   "id": "bd826e38-e58d-41e9-a134-72ba5b0ae02b",
   "metadata": {},
   "outputs": [],
   "source": [
    "# Your code below:\n",
    "# -------------------\n",
    "\n"
   ]
  },
  {
   "cell_type": "markdown",
   "id": "9e5b1429-c286-4075-9e0b-de711415f7dc",
   "metadata": {},
   "source": [
    "**Sample output:** </br>\n",
    "The model of my car is:  Model S</br>\n",
    "The colour of my car is:  white"
   ]
  },
  {
   "cell_type": "markdown",
   "id": "3aa929eb-7b46-4109-aab7-2d7111e83f4f",
   "metadata": {},
   "source": [
    "### Task 2:\n",
    "\n",
    "The current task is an extension of Task 1. First create a **Car** class similar to Task 1 with the **__init__** constructor. Now define a **method** called **create_car** which prints the **company**, **model** and **colour** of a car. Once the class has been defined, create two car instances (_any two favourite cars of your choice_) and call the **create_car()** method. "
   ]
  },
  {
   "cell_type": "code",
   "execution_count": null,
   "id": "0ba91cef-1201-4c67-8214-77ed1f21d556",
   "metadata": {},
   "outputs": [],
   "source": [
    "# Your code below:\n",
    "# -------------------\n",
    "\n",
    "\n"
   ]
  },
  {
   "cell_type": "markdown",
   "id": "b0c0b83e-79f4-4115-a1e6-a9f57b3c4fb9",
   "metadata": {},
   "source": [
    "**Sample output:** </br>\n",
    "The company is:  Lamborghini </br>\n",
    "The model is:  Aventador </br>\n",
    "The colour is:  Orange  </br>\n",
    "\n",
    "The company is:  Ferrari</br>\n",
    "The model is:  La Ferrari</br>\n",
    "The colour is:  Racing red"
   ]
  },
  {
   "cell_type": "markdown",
   "id": "d7d18cfc-5ecf-4a04-9e38-c5cbc6be7de2",
   "metadata": {},
   "source": [
    "### Task 3:\n",
    "\n",
    "Create a **Car** class that takes **velocity** attribute. Define two methods namely, **accelerate** and **brake**. The **accelerate** method should increase the velocity by **1** and the **brake** method should reduce the velocity of the car by **1**.\n",
    "\n",
    "Once the class has been defined, create two instances of this class called **my_ego** and **my_target_vehicle**. **my_ego's** initial velocity should be **10** and **my_target_vehicle's** initial velocity should be **15**.\n",
    "\n",
    "A sample function is created for you which drives your ego-vehicle and target-vehicle by accelerating and braking iteratively and finally prints the **end velocity** of both cars after executing these commands.\n",
    "\n",
    "**Note:** Observe carefully how the methods and attributes are called and how instances can be passed to other function as well."
   ]
  },
  {
   "cell_type": "code",
   "execution_count": null,
   "id": "a192aa49-5c2e-4f58-9262-fa1898eddb0e",
   "metadata": {},
   "outputs": [],
   "source": [
    "# Your code below:\n",
    "# -------------------\n",
    "\n",
    "        \n",
    "        \n",
    "# Create my_ego and my_target_vehicle instances here:\n",
    "# -------------------------------------------------------------\n",
    "\n",
    "\n"
   ]
  },
  {
   "cell_type": "code",
   "execution_count": null,
   "id": "76ac7aa7-4ebf-4f77-a1a1-ddd0002b6539",
   "metadata": {},
   "outputs": [],
   "source": [
    "# Testing code: Do not modify the below code\n",
    "# ---------------\n",
    "\n",
    "def drive(ego, target):\n",
    "    ego.accelerate()\n",
    "    target.accelerate()\n",
    "    \n",
    "    for _ in range(2):\n",
    "        ego.brake()\n",
    "    for _ in range(3):\n",
    "        target.brake()\n",
    "    \n",
    "    ego.accelerate()\n",
    "\n",
    "    print(\"The final EGO velocity is: \", ego.velocity)\n",
    "    print(\"The final EGO velocity is: \", target.velocity)\n",
    "\n",
    "drive(ego=my_ego, target=my_target_vehicle)"
   ]
  },
  {
   "cell_type": "markdown",
   "id": "787c0aac-dbd7-40fe-bd4c-523f0267b6df",
   "metadata": {},
   "source": [
    "**Expected Output:** </br>\n",
    "The final EGO velocity is:  10 </br>\n",
    "The final EGO velocity is:  13"
   ]
  },
  {
   "cell_type": "markdown",
   "id": "1ce44812",
   "metadata": {},
   "source": [
    "### Task 4:\n",
    "\n",
    "The current task is a continuation of Task 3 where we build on top of the existing code. The variation of velocity remains the same as previous task. Here, we also introduce another attribute called **distance** that indicates the total distance travelled by a vehicle. \n",
    "\n",
    "Assume that the **ego** vehicle is moving with an initial velocity of **20 m/s** and the **target_vehicle** is moving at a initial velocity of **15 m/s**. The ego vehicle should move **0.8 m** during one instance of acceleration and should move **0.3 m** during one instance of deceleration. The target vehicle should move **0.5 m** during one instance of acceleration and should move **0.2 m** during one instance of deceleration. Since, ego and target vehicle travel different distances, create another attribute called **is_ego** in the **Car** class that takes a boolean value which can be used by an **if** condition.\n",
    "\n",
    "We will use the distance information returned by the classes to calculate **Time to collision (TTC)** where, **TTC = distance of separation / relative velocity**. We calculate the initial TTC before performing any actions and then current TTC with modified velocities and modified distance of separation."
   ]
  },
  {
   "cell_type": "code",
   "execution_count": null,
   "id": "b237f658",
   "metadata": {},
   "outputs": [],
   "source": [
    "# Your code below: Create Car class below with all the attributes and methods\n",
    "# -------------------\n",
    "\n",
    "\n",
    "\n"
   ]
  },
  {
   "cell_type": "code",
   "execution_count": null,
   "id": "7e5dd70a",
   "metadata": {},
   "outputs": [],
   "source": [
    "# Function that performs actions:\n",
    "# -----------------------------------\n",
    "\n",
    "def actions(accelerate_no, brake_no, ego_velocity, target_vehicle_velocity):\n",
    "    ego = Car(velocity=ego_velocity, is_ego=True)\n",
    "    target_vehicle = Car(velocity=target_vehicle_velocity)\n",
    "\n",
    "    for _ in range(accelerate_no):\n",
    "        ego.accelerate()\n",
    "        target_vehicle.accelerate()\n",
    "\n",
    "    for _ in range(brake_no-1):\n",
    "        ego.brake()\n",
    "\n",
    "    for _ in range(brake_no):\n",
    "        target_vehicle.brake()\n",
    "\n",
    "    return ego.velocity, target_vehicle.velocity, ego.distance, target_vehicle.distance\n"
   ]
  },
  {
   "cell_type": "code",
   "execution_count": null,
   "id": "daed2734",
   "metadata": {},
   "outputs": [],
   "source": [
    "# Calculating TTC:\n",
    "# ------------------\n",
    "\n",
    "def time_to_collision(ego_velocity, target_vehicle_velocity, accelerate_no, brake_no, initial_dist_sep, \n",
    "initial_ego_velocity, initial_target_veh_velocity):\n",
    "    # Sub-task a: \n",
    "    # ------------\n",
    "    \"\"\"\n",
    "    Call the actions() method here and get the velocity and distance of ego and the target-vehicle.\n",
    "    \"\"\"\n",
    "    # Your code below:\n",
    "    # -------------------\n",
    "\n",
    "\n",
    "\n",
    "    # Sub-task b:\n",
    "    # -------------\n",
    "    \"\"\"\n",
    "    Write a code to calculate the distance of separation between ego and the target-vehicle.\n",
    "    \"\"\"\n",
    "    # Your code below: \n",
    "    # -------------------\n",
    "\n",
    "\n",
    "\n",
    "    # Sub-task c:\n",
    "    # -------------\n",
    "    \"\"\"\n",
    "    Write a code to calculate initial TTC before performing these actions and the current TTC\n",
    "    after performing these actions.\n",
    "    \"\"\"\n",
    "\n",
    "\n",
    "\n",
    "# Testing time_to_collision() function: Do not modify the below code\n",
    "# ----------------------------------------\n",
    "time_to_collision(ego_velocity=20, target_vehicle_velocity=15, accelerate_no=25, brake_no=20, \n",
    "initial_dist_sep=10, initial_ego_velocity=20, initial_target_veh_velocity=15)"
   ]
  },
  {
   "cell_type": "markdown",
   "id": "4c7d0920",
   "metadata": {},
   "source": [
    "**Expected output:**</br>\n",
    "Initial TTC:  2.0 sec </br>\n",
    "Current TTC:  0.3833333333333317 sec"
   ]
  },
  {
   "cell_type": "code",
   "execution_count": null,
   "id": "e7436ae1",
   "metadata": {},
   "outputs": [],
   "source": []
  }
 ],
 "metadata": {
  "kernelspec": {
   "display_name": "Python 3",
   "language": "python",
   "name": "python3"
  },
  "language_info": {
   "codemirror_mode": {
    "name": "ipython",
    "version": 3
   },
   "file_extension": ".py",
   "mimetype": "text/x-python",
   "name": "python",
   "nbconvert_exporter": "python",
   "pygments_lexer": "ipython3",
   "version": "3.8.11"
  }
 },
 "nbformat": 4,
 "nbformat_minor": 5
}
