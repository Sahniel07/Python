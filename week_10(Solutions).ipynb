{
 "cells": [
  {
   "cell_type": "markdown",
   "id": "2736503e-1d1b-41da-9975-e853dae8c3d9",
   "metadata": {},
   "source": [
    "# Lists:\n",
    "\n",
    "A **List** in Python is a container which is **_ordered_** and **_mutable_**. \n",
    "\n",
    "1. Ordered means that the elements of a list come with indices\n",
    "2. Mutable means that the list can be edited by **_adding_, _removing_, _replacing_** or **_modifying_** elements. "
   ]
  },
  {
   "cell_type": "markdown",
   "id": "414b8d8d",
   "metadata": {},
   "source": [
    "### Note 1: \n",
    "Elements/ items in a list can be any other data-type. A few examples are shown below."
   ]
  },
  {
   "cell_type": "code",
   "execution_count": 4,
   "id": "29a7e391-f489-447a-8688-edb4d3afdc13",
   "metadata": {},
   "outputs": [
    {
     "name": "stdout",
     "output_type": "stream",
     "text": [
      "A list containing different data types:  ['Hello', 1, 1.5, True, [4, 5, 6]]\n"
     ]
    }
   ],
   "source": [
    "# Example: A list containing integers, floats, strings, booleans and other lists (Nested lists)\n",
    "# ----------\n",
    "\n",
    "sample_list = [\"Hello\", 1, 1.5, True, [4,5,6]]\n",
    "\n",
    "print(\"A list containing different data types: \", sample_list)"
   ]
  },
  {
   "cell_type": "markdown",
   "id": "cf67112e-7985-4853-ae02-50dba3f1e6d6",
   "metadata": {},
   "source": [
    "### Note 2:\n",
    "\n",
    "Items in a list can be obtained by using indices. The rules are similar to that of strings."
   ]
  },
  {
   "cell_type": "code",
   "execution_count": 5,
   "id": "68e0d71f-b05b-4a02-b2e3-e333ccdaf3a4",
   "metadata": {},
   "outputs": [
    {
     "name": "stdout",
     "output_type": "stream",
     "text": [
      "First item in the list:  Ferrari\n",
      "Second item in the list:  Lambo\n",
      "Last item in the list:  Audi\n"
     ]
    }
   ],
   "source": [
    "# Example 1: Accessing items from a List\n",
    "# -----------\n",
    "\n",
    "sample_list = [\"Ferrari\", \"Lambo\", \"Audi\"]\n",
    "\n",
    "print(\"First item in the list: \", sample_list[0])\n",
    "print(\"Second item in the list: \", sample_list[1])\n",
    "print(\"Last item in the list: \", sample_list[-1])"
   ]
  },
  {
   "cell_type": "code",
   "execution_count": 6,
   "id": "6b016569-6c58-4079-b052-d247dd45a934",
   "metadata": {},
   "outputs": [
    {
     "name": "stdout",
     "output_type": "stream",
     "text": [
      "First list within the main list:  [1, 2, 3]\n",
      "Accessing 2.8 from the nested list:  2.8\n",
      "Accessing \"BMW\" from the nested list:  BMW\n"
     ]
    }
   ],
   "source": [
    "# Example 2: Accessing items from a Nested List\n",
    "# ------------\n",
    "\n",
    "sample_list = [[1, 2, 3] , [1.1, 2.8, 3.5], [\"Ferrari\", \"Lambo\", \"Audi\", \"BMW\"]]\n",
    "\n",
    "print(\"First list within the main list: \", sample_list[0])\n",
    "print(\"Accessing 2.8 from the nested list: \", sample_list[1][1])\n",
    "print(\"Accessing \\\"BMW\\\" from the nested list: \", sample_list[2][3])"
   ]
  },
  {
   "cell_type": "markdown",
   "id": "9ad822f5-9618-48f6-9be0-a84d778599f8",
   "metadata": {},
   "source": [
    "#### It's your turn to solve some Tasks ;-)"
   ]
  },
  {
   "cell_type": "markdown",
   "id": "94fffca0-45ad-4f7c-9d13-49e04341676a",
   "metadata": {},
   "source": [
    "### Task 1:\n",
    "\n",
    "Create a list called **my_fav_cars** and assign 3 of your favourite cars to it and print the list."
   ]
  },
  {
   "cell_type": "code",
   "execution_count": 7,
   "id": "7f53a946-a211-4ed3-85ea-5588970f3027",
   "metadata": {},
   "outputs": [
    {
     "name": "stdout",
     "output_type": "stream",
     "text": [
      "['Lamborghini Huracan Perfomante', 'Dodge Viper GTS-R', 'Mini Cooper SE']\n"
     ]
    }
   ],
   "source": [
    "# Your code below:\n",
    "# -------------------\n",
    "\n",
    "my_fav_cars = [\"Lamborghini Huracan Perfomante\", \"Dodge Viper GTS-R\", \"Mini Cooper SE\"]\n",
    "print(my_fav_cars)"
   ]
  },
  {
   "cell_type": "markdown",
   "id": "95b82e2a-728f-499e-a7ba-f622bca88e75",
   "metadata": {},
   "source": [
    "**Sample Output:** ['Lamborghini Huracan Perfomante', 'Dodge Viper GTS-R', 'Mini Cooper SE']"
   ]
  },
  {
   "cell_type": "markdown",
   "id": "2c858848-1fca-48fd-b4de-a65e95fcdbe4",
   "metadata": {},
   "source": [
    "### Task 2:\n",
    "\n",
    "Create a **2*2** Identity matrix and name it **identity** and print the matrix."
   ]
  },
  {
   "cell_type": "code",
   "execution_count": 8,
   "id": "ebe18339-5e65-455d-b0a9-782e94da1bdf",
   "metadata": {},
   "outputs": [
    {
     "name": "stdout",
     "output_type": "stream",
     "text": [
      "[[1, 0], [0, 1]]\n"
     ]
    }
   ],
   "source": [
    "# Your code below:\n",
    "# -------------------\n",
    "\n",
    "identity = [[1, 0], [0, 1]]\n",
    "print(identity)"
   ]
  },
  {
   "cell_type": "markdown",
   "id": "66d7306f-a4be-459e-8cee-42f26d3c77fb",
   "metadata": {},
   "source": [
    "**Expected output:** [[1, 0], [0, 1]]"
   ]
  },
  {
   "cell_type": "markdown",
   "id": "6809139f-bd95-460f-94a4-f997e78e3176",
   "metadata": {},
   "source": [
    "### Note 3:\n",
    "\n",
    "Lists are iterable. And we can **iterate** / **traverse** through lists in two ways as shown below. It is simliar to traversing through **strings**."
   ]
  },
  {
   "cell_type": "code",
   "execution_count": 9,
   "id": "02495acf-6f8d-44ec-8c58-4bf6c768514e",
   "metadata": {},
   "outputs": [
    {
     "name": "stdout",
     "output_type": "stream",
     "text": [
      "1\n",
      "2\n",
      "3\n"
     ]
    }
   ],
   "source": [
    "# Method 1: Iterating through items\n",
    "# -----------\n",
    "\n",
    "sample_list = [1, 2, 3]\n",
    "\n",
    "for each_item in sample_list:\n",
    "    print(each_item)"
   ]
  },
  {
   "cell_type": "code",
   "execution_count": 10,
   "id": "cbb107cd-7717-4962-8324-f5698871a6e5",
   "metadata": {},
   "outputs": [
    {
     "name": "stdout",
     "output_type": "stream",
     "text": [
      "1\n",
      "2\n",
      "3\n"
     ]
    }
   ],
   "source": [
    "# Method 2: Iterating using indices\n",
    "# -----------\n",
    "\n",
    "sample_list = [1, 2, 3]\n",
    "\n",
    "for i in range(0, len(sample_list)):\n",
    "    print(sample_list[i])"
   ]
  },
  {
   "cell_type": "markdown",
   "id": "d6468b87-9bca-42e0-806e-e9edc0e73bb9",
   "metadata": {},
   "source": [
    "As you can see, both ways of traversing give the same result. It's time for you to solve some tasks related to itertion ;-)"
   ]
  },
  {
   "cell_type": "markdown",
   "id": "130a26b9-b536-4309-b49e-f3b221992702",
   "metadata": {},
   "source": [
    "### Task 1:\n",
    "\n",
    "Create a list called **some_numbers** with these items **[2, 3, 5, 8]**. Now traverse through the list and print each item multiplied by **2**"
   ]
  },
  {
   "cell_type": "code",
   "execution_count": 11,
   "id": "8b1c81e1-08c0-44a0-a0d6-9dc07128bc54",
   "metadata": {},
   "outputs": [
    {
     "name": "stdout",
     "output_type": "stream",
     "text": [
      "4\n",
      "6\n",
      "10\n",
      "16\n"
     ]
    }
   ],
   "source": [
    "# Your code below:\n",
    "# -------------------\n",
    "\n",
    "some_numbers = [2, 3, 5, 8]\n",
    "\n",
    "for each_item in some_numbers:\n",
    "    print(each_item * 2)"
   ]
  },
  {
   "cell_type": "markdown",
   "id": "d661f7ae-a0bf-4b39-a0c9-2b79c61046e3",
   "metadata": {},
   "source": [
    "**Output:** </br>\n",
    "4 </br>\n",
    "6 </br>\n",
    "10 </br>\n",
    "16"
   ]
  },
  {
   "cell_type": "markdown",
   "id": "0339530e-c80d-424c-b9a0-0ec57a12a709",
   "metadata": {},
   "source": [
    "### Task 2:\n",
    "\n",
    "Create a list named **numbers** with the following items **[1, 5, 2, 4, 8, 15, 16, 17, 25, 30]**. Traverse through the list and print only **even** numbers."
   ]
  },
  {
   "cell_type": "code",
   "execution_count": 12,
   "id": "6ef8a851-f9f2-4418-9a8b-5125f13e455b",
   "metadata": {},
   "outputs": [
    {
     "name": "stdout",
     "output_type": "stream",
     "text": [
      "2\n",
      "4\n",
      "8\n",
      "16\n",
      "30\n"
     ]
    }
   ],
   "source": [
    "# Your code below:\n",
    "# -------------------\n",
    "\n",
    "numbers = [1, 5, 2, 4, 8, 15, 16, 17, 25, 30]\n",
    "\n",
    "# Method 1: \n",
    "# -----------\n",
    "for each_number in numbers:\n",
    "    if each_number%2==0:\n",
    "        print(each_number)"
   ]
  },
  {
   "cell_type": "code",
   "execution_count": 13,
   "id": "dd3c077a",
   "metadata": {},
   "outputs": [
    {
     "name": "stdout",
     "output_type": "stream",
     "text": [
      "2\n",
      "4\n",
      "8\n",
      "16\n",
      "30\n"
     ]
    }
   ],
   "source": [
    "# Method 2:\n",
    "# -----------\n",
    "for each_number in numbers:\n",
    "    if not each_number%2:\n",
    "        print(each_number)"
   ]
  },
  {
   "cell_type": "markdown",
   "id": "7feb1322-3122-4669-94cc-a7912ab2059e",
   "metadata": {},
   "source": [
    "**Expected output:** </br>\n",
    "2</br>\n",
    "4</br>\n",
    "8</br>\n",
    "16</br>\n",
    "30"
   ]
  },
  {
   "cell_type": "markdown",
   "id": "38b33251-21df-4d9b-b41c-ed5236182355",
   "metadata": {},
   "source": [
    "### Task 3:\n",
    "\n",
    "Create a nested list named **nested_list** :-p and assign the following items to it **[[1, 2, 3], [1, 2, 3, 4], [1, 2, 3, 4, 5], [1, 2, 3, 4, 5, 6]]**. Print the length of each list within the nested list by iterating through the nested list."
   ]
  },
  {
   "cell_type": "code",
   "execution_count": 14,
   "id": "ce351478-4f1f-48d8-9fa3-e37a72fe9b8f",
   "metadata": {},
   "outputs": [
    {
     "name": "stdout",
     "output_type": "stream",
     "text": [
      "3\n",
      "4\n",
      "5\n",
      "6\n"
     ]
    }
   ],
   "source": [
    "# Your code below:\n",
    "# -------------------\n",
    "\n",
    "nested_list = [[1, 2, 3], [1, 2, 3, 4], [1, 2, 3, 4, 5], [1, 2, 3, 4, 5, 6]]\n",
    "\n",
    "for each_list in nested_list:\n",
    "    print(len(each_list))"
   ]
  },
  {
   "cell_type": "markdown",
   "id": "021d619f-f8df-46d0-8797-4e8627148166",
   "metadata": {},
   "source": [
    "**Expected output:** </br>\n",
    "3 </br>\n",
    "4</br>\n",
    "5</br>\n",
    "6"
   ]
  },
  {
   "cell_type": "markdown",
   "id": "29f4d243-0f5e-421a-92c0-748ee104e208",
   "metadata": {},
   "source": [
    "### Task 4:\n",
    "\n",
    "Create a nested list named **nested_list** and assign the following items to it **[[1, 2, 3], [1, 2, 3, 4], [1, 2, 3, 4, 5], [1, 2, 3, 4, 5, 6]]**. Print only the **even** numbers within each list of the nested list."
   ]
  },
  {
   "cell_type": "code",
   "execution_count": 15,
   "id": "52b6ea62-f2b4-4ab8-af98-52f4d5b883e2",
   "metadata": {},
   "outputs": [
    {
     "name": "stdout",
     "output_type": "stream",
     "text": [
      "2\n",
      "\n",
      "\n",
      "2\n",
      "4\n",
      "\n",
      "\n",
      "2\n",
      "4\n",
      "\n",
      "\n",
      "2\n",
      "4\n",
      "6\n",
      "\n",
      "\n"
     ]
    }
   ],
   "source": [
    "# Your code below:\n",
    "# -------------------\n",
    "\n",
    "nested_list = [[1, 2, 3], [1, 2, 3, 4], [1, 2, 3, 4, 5], [1, 2, 3, 4, 5, 6]]\n",
    "\n",
    "for each_list in nested_list:\n",
    "    for each_number in each_list:\n",
    "        if not each_number%2:\n",
    "            print(each_number)\n",
    "    print(\"\\n\")"
   ]
  },
  {
   "cell_type": "markdown",
   "id": "701ae822-33bf-4e77-9177-de049a9feeb4",
   "metadata": {},
   "source": [
    "**Expected output:** </br>\n",
    "2</br>\n",
    "\n",
    "2</br>\n",
    "4</br>\n",
    "\n",
    "2</br>\n",
    "4</br>\n",
    "\n",
    "2</br>\n",
    "4</br>\n",
    "6"
   ]
  },
  {
   "cell_type": "markdown",
   "id": "d8e254ff-12ab-43a4-a8de-fa67377e6ff6",
   "metadata": {},
   "source": [
    "### Note 4:\n",
    "\n",
    "Lists are mutable which means they can be edited. You can add an element to a list using **append()** method. **remove()** is used to remove a specific element. **pop()** is used to remove the last element. **del()** is used to delete a specific index number in the list. An example is given below;"
   ]
  },
  {
   "cell_type": "code",
   "execution_count": 16,
   "id": "2a91ad38-a7b7-408e-9274-c3b42990e3a2",
   "metadata": {},
   "outputs": [
    {
     "name": "stdout",
     "output_type": "stream",
     "text": [
      "The original list:  [1, 2, 3]\n",
      "List after appending 4:  [1, 2, 3, 4]\n",
      "After removing 1 from the list:  [2, 3, 4]\n",
      "List after deleting the middle element:  [2, 4]\n",
      "List after removing the last element:  [2]\n"
     ]
    }
   ],
   "source": [
    "# Example:\n",
    "# ----------\n",
    "\n",
    "sample_list = [1, 2, 3]\n",
    "print(\"The original list: \", sample_list)\n",
    "\n",
    "sample_list.append(4)\n",
    "print(\"List after appending 4: \", sample_list)\n",
    "\n",
    "sample_list.remove(1)\n",
    "print(\"After removing 1 from the list: \", sample_list)\n",
    "\n",
    "del sample_list[-2:-1]\n",
    "print(\"List after deleting the middle element: \", sample_list)\n",
    "\n",
    "sample_list.pop()\n",
    "print(\"List after removing the last element: \", sample_list)"
   ]
  },
  {
   "cell_type": "markdown",
   "id": "caac2c96-cb3c-4f89-b2ae-91f5847cb8c7",
   "metadata": {},
   "source": [
    "### Task 1:\n",
    "\n",
    "Create two lists one named **given_list = [2, 5, 6, 7, 8, 1, 12, 17]** and another empty list named **filtered_list = []**. Traverse through the **given_list** and when you encounter an **odd** number, add that to the **filtered_list**. Print the **filtered_list**."
   ]
  },
  {
   "cell_type": "code",
   "execution_count": 17,
   "id": "54203e6e-3d7a-45f5-9ca5-3733b4946d0e",
   "metadata": {},
   "outputs": [
    {
     "name": "stdout",
     "output_type": "stream",
     "text": [
      "[5, 7, 1, 17]\n"
     ]
    }
   ],
   "source": [
    "# Your code below:\n",
    "# -------------------\n",
    "\n",
    "given_list = [2, 5, 6, 7, 8, 1, 12, 17]\n",
    "filtered_list = []\n",
    "\n",
    "for each_item in given_list:\n",
    "    if each_item%2:\n",
    "        filtered_list.append(each_item)\n",
    "        \n",
    "print(filtered_list)"
   ]
  },
  {
   "cell_type": "markdown",
   "id": "4b47ee60-36cc-44f4-ade6-7292ffec00d7",
   "metadata": {},
   "source": [
    "**Expected output:** [5, 7, 1, 17]"
   ]
  },
  {
   "cell_type": "markdown",
   "id": "f0496d8e",
   "metadata": {},
   "source": [
    "### Task 2:\n",
    "\n",
    "Write a function that creates **m\\*m** identity matrix. The function should also create a new matrix which multiplies the identity matrix by **n**. If **m** is odd, the function should also create another matrix which is identity matrix containing **m\\*n** at the center. The function should print the matrices at the end and it should work for any value of **m** and **n**. The expected result is given below.\n",
    "\n",
    "Check your function for **m=5** and **n=3**. \n",
    "\n",
    "**Suggestion:** Try to use the concept of nested-lists, list iteration, list copying and list operations to solve the task."
   ]
  },
  {
   "cell_type": "code",
   "execution_count": 18,
   "id": "9a7df30e",
   "metadata": {},
   "outputs": [
    {
     "name": "stdout",
     "output_type": "stream",
     "text": [
      "Identity matrix:  [[1, 0, 0, 0, 0], [0, 1, 0, 0, 0], [0, 0, 1, 0, 0], [0, 0, 0, 1, 0], [0, 0, 0, 0, 1]] \n",
      "\n",
      "Identity matrix times 3:  [[3, 0, 0, 0, 0], [0, 3, 0, 0, 0], [0, 0, 3, 0, 0], [0, 0, 0, 3, 0], [0, 0, 0, 0, 3]] \n",
      "\n",
      "Identity matrix with center as 5*3:  [[1, 0, 0, 0, 0], [0, 1, 0, 0, 0], [0, 0, 15, 0, 0], [0, 0, 0, 1, 0], [0, 0, 0, 0, 1]]\n"
     ]
    }
   ],
   "source": [
    "# Your code below:\n",
    "# -------------------\n",
    "\n",
    "def identity_mul(m, n):\n",
    "    id_matrix = []\n",
    "    id_matrix_times_n = []\n",
    "    for i in range(m):\n",
    "        zeros  = [0]*m\n",
    "        times_n = zeros[:]\n",
    "        zeros[i], times_n[i] = 1, n\n",
    "        id_matrix.append(zeros)\n",
    "        id_matrix_times_n.append(times_n)\n",
    "    print(\"Identity matrix: \", id_matrix, \"\\n\")\n",
    "    print(f\"Identity matrix times {n}: \", id_matrix_times_n ,\"\\n\")\n",
    "    if m%2:\n",
    "        center_mn = id_matrix[:] # Copy the resulting identity matrix\n",
    "        center_mn[m//2][m//2]  = m*n\n",
    "        print(f\"Identity matrix with center as {m}*{n}: \", center_mn)\n",
    "\n",
    "# Test your function for m=5 and n=3\n",
    "identity_mul(m=5, n=3)"
   ]
  },
  {
   "cell_type": "markdown",
   "id": "4ecb38d3",
   "metadata": {},
   "source": [
    "**Expected result:**\n",
    "\n",
    "Identity matrix:  [[1, 0, 0, 0, 0], [0, 1, 0, 0, 0], [0, 0, 1, 0, 0], [0, 0, 0, 1, 0], [0, 0, 0, 0, 1]] \n",
    "\n",
    "Identity matrix times 3:  [[3, 0, 0, 0, 0], [0, 3, 0, 0, 0], [0, 0, 3, 0, 0], [0, 0, 0, 3, 0], [0, 0, 0, 0, 3]] \n",
    "\n",
    "Identity matrix with center as 5*3:  [[1, 0, 0, 0, 0], [0, 1, 0, 0, 0], [0, 0, 15, 0, 0], [0, 0, 0, 1, 0], [0, 0, 0, 0, 1]]"
   ]
  },
  {
   "cell_type": "code",
   "execution_count": null,
   "id": "797ca1b7",
   "metadata": {},
   "outputs": [],
   "source": []
  }
 ],
 "metadata": {
  "kernelspec": {
   "display_name": "Python 3",
   "language": "python",
   "name": "python3"
  },
  "language_info": {
   "codemirror_mode": {
    "name": "ipython",
    "version": 3
   },
   "file_extension": ".py",
   "mimetype": "text/x-python",
   "name": "python",
   "nbconvert_exporter": "python",
   "pygments_lexer": "ipython3",
   "version": "3.8.11"
  }
 },
 "nbformat": 4,
 "nbformat_minor": 5
}
